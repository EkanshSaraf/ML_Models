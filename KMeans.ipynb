{
  "nbformat": 4,
  "nbformat_minor": 0,
  "metadata": {
    "orig_nbformat": 4,
    "colab": {
      "name": "KMeans.ipynb",
      "provenance": [],
      "include_colab_link": true
    },
    "language_info": {
      "name": "python"
    },
    "kernelspec": {
      "name": "python3",
      "display_name": "Python 3"
    }
  },
  "cells": [
    {
      "cell_type": "markdown",
      "metadata": {
        "id": "view-in-github",
        "colab_type": "text"
      },
      "source": [
        "<a href=\"https://colab.research.google.com/github/EkanshSaraf/ML_Models/blob/main/KMeans.ipynb\" target=\"_parent\"><img src=\"https://colab.research.google.com/assets/colab-badge.svg\" alt=\"Open In Colab\"/></a>"
      ]
    },
    {
      "cell_type": "code",
      "metadata": {
        "colab": {
          "base_uri": "https://localhost:8080/"
        },
        "id": "lr97fDHEZ0Ux",
        "outputId": "0f466b0c-86bd-485e-9a39-e1e27e0d5928"
      },
      "source": [
        "import numpy as np\n",
        "\n",
        "np.random.seed(42)\n",
        "\n",
        "def euclidean_distance(x1,x2):\n",
        "    return np.sqrt(np.sum((x1-x2)**2))\n",
        "\n",
        "class KMeans:\n",
        "\n",
        "    def __init__(self, k=5, max_iters=100):\n",
        "        self.k = k\n",
        "        self.max_iters = max_iters\n",
        "\n",
        "        # list of sample indices for each cluster\n",
        "        self.clusters = [[] for _ in range(self.k)]\n",
        "        # mean feature vector for each cluster\n",
        "        self.centroids = []\n",
        "\n",
        "    def predict(self,X):\n",
        "        self.X = X\n",
        "        self.n_samples,self.n_features = X.shape\n",
        "\n",
        "        # initialize our centroids\n",
        "        random_sample_idxs = np.random.choice(self.n_samples,self.k,replace=False)\n",
        "        self.centroids = [self.X[idx] for idx in random_sample_idxs]\n",
        "\n",
        "        # optimization\n",
        "        for _ in range(self.max_iters):\n",
        "            # update clusters\n",
        "            self.clusters = self._create_clusters(self.centroids)\n",
        "\n",
        "            # update centroids\n",
        "            centroids_old = self.centroids\n",
        "            self.centroids = self._get_centroids(self.clusters)\n",
        "\n",
        "            # check if converged\n",
        "            if self._is_converged(centroids_old,self.centroids):\n",
        "                break\n",
        "\n",
        "        # return cluster labels\n",
        "        return self._get_cluster_labels(self.clusters)\n",
        "\n",
        "    def _get_cluster_labels(self,clusters):\n",
        "        labels = np.empty(self.n_samples)\n",
        "        for cluster_idx,cluster in enumerate(clusters):\n",
        "            for sample_idx in cluster:\n",
        "                labels[sample_idx] = cluster_idx\n",
        "        return labels\n",
        "\n",
        "    def _get_centroids(self,clusters):\n",
        "        centroids = np.zeros((self.k,self.n_features))\n",
        "        for cluster_idx,cluster in enumerate(clusters):\n",
        "            cluster_mean = np.mean(self.X[cluster],axis=0)\n",
        "            centroids[cluster_idx] = cluster_mean\n",
        "        return centroids\n",
        "\n",
        "    def _is_converged(self,centroids_old,centroids):\n",
        "        distances = [euclidean_distance(centroids_old[i],centroids[i]) for i in range(self.k)]\n",
        "        return sum(distances)==0\n",
        "\n",
        "    def _create_clusters(self,centroids):\n",
        "        clusters = [[] for _ in range(self.k)]\n",
        "        for idx, sample in enumerate(self.X):\n",
        "            centroid_idx = self._closest_centroid(sample,centroids)\n",
        "            clusters[centroid_idx].append(idx)\n",
        "\n",
        "        return clusters\n",
        "\n",
        "    def _closest_centroid(self,sample,centroids):\n",
        "        distances = [euclidean_distance(sample,point) for point in centroids]\n",
        "        closest_idx = np.argmin(distances)\n",
        "        return closest_idx\n",
        "\n",
        "\n",
        "# Testing\n",
        "if __name__ == \"__main__\":\n",
        "    from sklearn.datasets import make_blobs\n",
        "\n",
        "    X, y = make_blobs(\n",
        "        centers=3, n_samples=500, n_features=2, shuffle=True, random_state=40\n",
        "    )\n",
        "    print(X.shape)\n",
        "\n",
        "    clusters = len(np.unique(y))\n",
        "    print(clusters)\n",
        "\n",
        "    km = KMeans(k=clusters, max_iters=150)\n",
        "    y_pred = km.predict(X)"
      ],
      "execution_count": 5,
      "outputs": [
        {
          "output_type": "stream",
          "name": "stdout",
          "text": [
            "(500, 2)\n",
            "3\n"
          ]
        }
      ]
    }
  ]
}