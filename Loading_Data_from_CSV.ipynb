{
  "nbformat": 4,
  "nbformat_minor": 0,
  "metadata": {
    "colab": {
      "name": "Loading Data from CSV.ipynb",
      "provenance": [],
      "collapsed_sections": [],
      "authorship_tag": "ABX9TyMmUQbLCFUaNa5mVaGqA5Fk",
      "include_colab_link": true
    },
    "kernelspec": {
      "name": "python3",
      "display_name": "Python 3"
    },
    "language_info": {
      "name": "python"
    }
  },
  "cells": [
    {
      "cell_type": "markdown",
      "metadata": {
        "id": "view-in-github",
        "colab_type": "text"
      },
      "source": [
        "<a href=\"https://colab.research.google.com/github/EkanshSaraf/ML_Models/blob/main/Loading_Data_from_CSV.ipynb\" target=\"_parent\"><img src=\"https://colab.research.google.com/assets/colab-badge.svg\" alt=\"Open In Colab\"/></a>"
      ]
    },
    {
      "cell_type": "markdown",
      "metadata": {
        "id": "LYdPT8ATm-fr"
      },
      "source": [
        "Method 1"
      ]
    },
    {
      "cell_type": "code",
      "metadata": {
        "colab": {
          "base_uri": "https://localhost:8080/"
        },
        "id": "k341mrXylj9Z",
        "outputId": "2212c841-bfad-495c-f532-b34065effcb6"
      },
      "source": [
        "import csv\n",
        "import numpy as np\n",
        "\n",
        "FILE_NAME = \"spambase.data\"\n",
        "with open(FILE_NAME,'r') as f:#open file_name in read mode as f\n",
        "  data = list(csv.reader(f,delimiter=\",\"))\n",
        "\n",
        "data = np.array(data)\n",
        "print(data.shape)\n",
        "n_samples,n_features = data.shape\n",
        "n_features -= 1\n",
        "X = data[:,0:n_features]\n",
        "y = data[:,n_features]"
      ],
      "execution_count": 3,
      "outputs": [
        {
          "output_type": "stream",
          "name": "stdout",
          "text": [
            "(4601, 58)\n"
          ]
        }
      ]
    },
    {
      "cell_type": "code",
      "metadata": {
        "id": "59zkAW8anYOe"
      },
      "source": [
        ""
      ],
      "execution_count": null,
      "outputs": []
    },
    {
      "cell_type": "markdown",
      "metadata": {
        "id": "iX0soikmnB3B"
      },
      "source": [
        "Method 2- Using numpy"
      ]
    },
    {
      "cell_type": "code",
      "metadata": {
        "colab": {
          "base_uri": "https://localhost:8080/"
        },
        "id": "pKiZxuDInEt6",
        "outputId": "8e938dd6-12b2-4479-9607-84d67bb03b2c"
      },
      "source": [
        "import numpy as np\n",
        "\n",
        "FILE_NAME = \"spambase.data\"\n",
        "\n",
        "data = np.loadtxt(FILE_NAME,delimiter=\",\")\n",
        "\n",
        "data = np.array(data)\n",
        "print(data.shape)\n",
        "n_samples,n_features = data.shape\n",
        "n_features -= 1\n",
        "X = data[:,0:n_features]\n",
        "y = data[:,n_features]\n",
        "print(X.shape,y.shape)"
      ],
      "execution_count": 9,
      "outputs": [
        {
          "output_type": "stream",
          "name": "stdout",
          "text": [
            "(4601, 58)\n",
            "(4601, 57) (4601,)\n"
          ]
        }
      ]
    },
    {
      "cell_type": "markdown",
      "metadata": {
        "id": "v555ofYpnSu5"
      },
      "source": [
        "Method 3- Using numpy genfromtxt"
      ]
    },
    {
      "cell_type": "code",
      "metadata": {
        "colab": {
          "base_uri": "https://localhost:8080/"
        },
        "id": "zQK5xEeYnZvf",
        "outputId": "b4b96b3b-a1cc-412a-e84b-bcde2bf9881d"
      },
      "source": [
        "import numpy as np\n",
        "\n",
        "FILE_NAME = \"spambase.data\"\n",
        "\n",
        "data = np.genfromtxt(FILE_NAME,delimiter=\",\")#(skip_header=1) to skip only 1 row\n",
        "                                             #(missing_values = \"Hello\",filling_values=9999.0) to fill \"Hello\" with 9999.0\n",
        "\n",
        "data = np.array(data)\n",
        "print(data.shape)\n",
        "n_samples,n_features = data.shape\n",
        "n_features -= 1\n",
        "X = data[:,0:n_features]\n",
        "y = data[:,n_features]\n",
        "print(X.shape,y.shape)"
      ],
      "execution_count": 8,
      "outputs": [
        {
          "output_type": "stream",
          "name": "stdout",
          "text": [
            "(4601, 58)\n",
            "(4601, 57) (4601,)\n"
          ]
        }
      ]
    },
    {
      "cell_type": "markdown",
      "metadata": {
        "id": "v_K7SIibnda5"
      },
      "source": [
        "Method 4: Using pandas"
      ]
    },
    {
      "cell_type": "code",
      "metadata": {
        "colab": {
          "base_uri": "https://localhost:8080/"
        },
        "id": "xBTWZpfLngN3",
        "outputId": "1aedb13c-999a-4f36-d997-b9d9c27226aa"
      },
      "source": [
        "import numpy as np\n",
        "import pandas as pd\n",
        "\n",
        "df = pd.read_csv(FILE_NAME,delimiter=\",\",header=None,dtype=np.float32)#(skiprow=1) to skip 1st row\n",
        "                                                                      #(na_values=[\"hello\"])\n",
        "#df = df.fillna(9999.0)#fill na with 9999.0\n",
        "data = df.to_numpy()\n",
        "\n",
        "data = np.array(data)\n",
        "print(data.shape,type(data[0][0]))\n",
        "n_samples,n_features = data.shape\n",
        "n_features -= 1\n",
        "X = data[:,0:n_features]\n",
        "y = data[:,n_features]\n",
        "print(X.shape,y.shape)\n",
        "\n"
      ],
      "execution_count": 12,
      "outputs": [
        {
          "output_type": "stream",
          "name": "stdout",
          "text": [
            "(4601, 58) <class 'numpy.float32'>\n",
            "(4601, 57) (4601,)\n"
          ]
        }
      ]
    }
  ]
}