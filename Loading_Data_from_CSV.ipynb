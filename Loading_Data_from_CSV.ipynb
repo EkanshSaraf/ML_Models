{
  "nbformat": 4,
  "nbformat_minor": 2,
  "metadata": {
    "colab": {
      "name": "Loading Data from CSV.ipynb",
      "provenance": [],
      "collapsed_sections": [],
      "authorship_tag": "ABX9TyMmUQbLCFUaNa5mVaGqA5Fk",
      "include_colab_link": true
    },
    "kernelspec": {
      "name": "python3",
      "display_name": "Python 3"
    },
    "language_info": {
      "name": "python"
    }
  },
  "cells": [
    {
      "cell_type": "markdown",
      "source": [
        "<a href=\"https://colab.research.google.com/github/EkanshSaraf/ML_Models/blob/main/Loading_Data_from_CSV.ipynb\" target=\"_parent\"><img src=\"https://colab.research.google.com/assets/colab-badge.svg\" alt=\"Open In Colab\"/></a>"
      ],
      "metadata": {
        "id": "view-in-github",
        "colab_type": "text"
      }
    },
    {
      "cell_type": "markdown",
      "source": [
        "Method 1"
      ],
      "metadata": {
        "id": "LYdPT8ATm-fr"
      }
    },
    {
      "cell_type": "code",
      "execution_count": 3,
      "source": [
        "import csv\r\n",
        "import numpy as np\r\n",
        "\r\n",
        "FILE_NAME = \"spambase.data\"\r\n",
        "with open(FILE_NAME,'r') as f:#open file_name in read mode as f\r\n",
        "  data = list(csv.reader(f,delimiter=\",\"))\r\n",
        "\r\n",
        "data = np.array(data)\r\n",
        "print(data.shape)\r\n",
        "n_samples,n_features = data.shape\r\n",
        "n_features -= 1\r\n",
        "X = data[:,0:n_features]\r\n",
        "y = data[:,n_features]"
      ],
      "outputs": [
        {
          "output_type": "stream",
          "name": "stdout",
          "text": [
            "(4601, 58)\n"
          ]
        }
      ],
      "metadata": {
        "colab": {
          "base_uri": "https://localhost:8080/"
        },
        "id": "k341mrXylj9Z",
        "outputId": "2212c841-bfad-495c-f532-b34065effcb6"
      }
    },
    {
      "cell_type": "markdown",
      "source": [
        "Method 2- Using numpy"
      ],
      "metadata": {
        "id": "iX0soikmnB3B"
      }
    },
    {
      "cell_type": "code",
      "execution_count": 9,
      "source": [
        "import numpy as np\r\n",
        "\r\n",
        "FILE_NAME = \"spambase.data\"\r\n",
        "\r\n",
        "data = np.loadtxt(FILE_NAME,delimiter=\",\")\r\n",
        "\r\n",
        "data = np.array(data)\r\n",
        "print(data.shape)\r\n",
        "n_samples,n_features = data.shape\r\n",
        "n_features -= 1\r\n",
        "X = data[:,0:n_features]\r\n",
        "y = data[:,n_features]\r\n",
        "print(X.shape,y.shape)"
      ],
      "outputs": [
        {
          "output_type": "stream",
          "name": "stdout",
          "text": [
            "(4601, 58)\n",
            "(4601, 57) (4601,)\n"
          ]
        }
      ],
      "metadata": {
        "colab": {
          "base_uri": "https://localhost:8080/"
        },
        "id": "pKiZxuDInEt6",
        "outputId": "8e938dd6-12b2-4479-9607-84d67bb03b2c"
      }
    },
    {
      "cell_type": "markdown",
      "source": [
        "Method 3- Using numpy genfromtxt"
      ],
      "metadata": {
        "id": "v555ofYpnSu5"
      }
    },
    {
      "cell_type": "code",
      "execution_count": 8,
      "source": [
        "import numpy as np\r\n",
        "\r\n",
        "FILE_NAME = \"spambase.data\"\r\n",
        "\r\n",
        "data = np.genfromtxt(FILE_NAME,delimiter=\",\")#(skip_header=1) to skip only 1 row\r\n",
        "                                             #(missing_values = \"Hello\",filling_values=9999.0) to fill \"Hello\" with 9999.0\r\n",
        "\r\n",
        "data = np.array(data)\r\n",
        "print(data.shape)\r\n",
        "n_samples,n_features = data.shape\r\n",
        "n_features -= 1\r\n",
        "X = data[:,0:n_features]\r\n",
        "y = data[:,n_features]\r\n",
        "print(X.shape,y.shape)"
      ],
      "outputs": [
        {
          "output_type": "stream",
          "name": "stdout",
          "text": [
            "(4601, 58)\n",
            "(4601, 57) (4601,)\n"
          ]
        }
      ],
      "metadata": {
        "colab": {
          "base_uri": "https://localhost:8080/"
        },
        "id": "zQK5xEeYnZvf",
        "outputId": "b4b96b3b-a1cc-412a-e84b-bcde2bf9881d"
      }
    },
    {
      "cell_type": "markdown",
      "source": [
        "Method 4: Using pandas"
      ],
      "metadata": {
        "id": "v_K7SIibnda5"
      }
    },
    {
      "cell_type": "code",
      "execution_count": 12,
      "source": [
        "import numpy as np\r\n",
        "import pandas as pd\r\n",
        "\r\n",
        "df = pd.read_csv(FILE_NAME,delimiter=\",\",header=None,dtype=np.float32)#(skiprow=1) to skip 1st row\r\n",
        "                                                                      #(na_values=[\"hello\"])\r\n",
        "#df = df.fillna(9999.0)#fill na with 9999.0\r\n",
        "data = df.to_numpy()\r\n",
        "\r\n",
        "data = np.array(data)\r\n",
        "print(data.shape,type(data[0][0]))\r\n",
        "n_samples,n_features = data.shape\r\n",
        "n_features -= 1\r\n",
        "X = data[:,0:n_features]\r\n",
        "y = data[:,n_features]\r\n",
        "print(X.shape,y.shape)\r\n",
        "\r\n"
      ],
      "outputs": [
        {
          "output_type": "stream",
          "name": "stdout",
          "text": [
            "(4601, 58) <class 'numpy.float32'>\n",
            "(4601, 57) (4601,)\n"
          ]
        }
      ],
      "metadata": {
        "colab": {
          "base_uri": "https://localhost:8080/"
        },
        "id": "xBTWZpfLngN3",
        "outputId": "1aedb13c-999a-4f36-d997-b9d9c27226aa"
      }
    }
  ]
}